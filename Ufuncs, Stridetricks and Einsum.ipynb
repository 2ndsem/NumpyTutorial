{
 "cells": [
  {
   "cell_type": "code",
   "execution_count": 1,
   "metadata": {
    "collapsed": true
   },
   "outputs": [],
   "source": [
    "import numpy as np"
   ]
  },
  {
   "cell_type": "markdown",
   "metadata": {},
   "source": [
    "For loops vs Numpy\n",
    "<br>\n",
    "Let's take a look at how Numpy's built in mathematical functions save us a lot of time by making looping redundant"
   ]
  },
  {
   "cell_type": "code",
   "execution_count": 2,
   "metadata": {},
   "outputs": [
    {
     "name": "stdout",
     "output_type": "stream",
     "text": [
      "CPU times: user 1.04 ms, sys: 1.29 ms, total: 2.34 ms\n",
      "Wall time: 1.04 ms\n",
      "CPU times: user 3.27 ms, sys: 1.9 ms, total: 5.17 ms\n",
      "Wall time: 5.2 ms\n"
     ]
    }
   ],
   "source": [
    "#core/src/multiarray/ctors.c\n",
    "%time x = np.arange(100000)\n",
    "%time y = list(range(100000))"
   ]
  },
  {
   "cell_type": "code",
   "execution_count": 3,
   "metadata": {},
   "outputs": [
    {
     "name": "stdout",
     "output_type": "stream",
     "text": [
      "CPU times: user 299 µs, sys: 125 µs, total: 424 µs\n",
      "Wall time: 322 µs\n"
     ]
    },
    {
     "data": {
      "text/plain": [
       "4999950000"
      ]
     },
     "execution_count": 3,
     "metadata": {},
     "output_type": "execute_result"
    }
   ],
   "source": [
    "%time np.sum(x)"
   ]
  },
  {
   "cell_type": "code",
   "execution_count": 4,
   "metadata": {},
   "outputs": [
    {
     "name": "stdout",
     "output_type": "stream",
     "text": [
      "CPU times: user 17.1 ms, sys: 902 µs, total: 18 ms\n",
      "Wall time: 17.2 ms\n"
     ]
    }
   ],
   "source": [
    "%%time\n",
    "total = 0\n",
    "for _ in y:\n",
    "    total += _"
   ]
  },
  {
   "cell_type": "code",
   "execution_count": 5,
   "metadata": {},
   "outputs": [
    {
     "name": "stdout",
     "output_type": "stream",
     "text": [
      "CPU times: user 655 µs, sys: 232 µs, total: 887 µs\n",
      "Wall time: 563 µs\n"
     ]
    }
   ],
   "source": [
    "%%time\n",
    "mean = np.average(x)"
   ]
  },
  {
   "cell_type": "code",
   "execution_count": 6,
   "metadata": {},
   "outputs": [
    {
     "name": "stdout",
     "output_type": "stream",
     "text": [
      "CPU times: user 38.9 ms, sys: 1.78 ms, total: 40.7 ms\n",
      "Wall time: 39.7 ms\n"
     ]
    }
   ],
   "source": [
    "%%time \n",
    "total = 0\n",
    "count = 0\n",
    "for _ in y:\n",
    "    total += _\n",
    "    count += _\n",
    "    \n",
    "total / count"
   ]
  },
  {
   "cell_type": "markdown",
   "metadata": {},
   "source": [
    "Which one do you think is faster?\n",
    "<br>\n",
    "abs(3.14159) or np.abs(3.14159)"
   ]
  },
  {
   "cell_type": "code",
   "execution_count": 7,
   "metadata": {},
   "outputs": [
    {
     "name": "stdout",
     "output_type": "stream",
     "text": [
      "CPU times: user 5 µs, sys: 0 ns, total: 5 µs\n",
      "Wall time: 11 µs\n",
      "CPU times: user 28 µs, sys: 1 µs, total: 29 µs\n",
      "Wall time: 37.2 µs\n"
     ]
    },
    {
     "data": {
      "text/plain": [
       "3.14159"
      ]
     },
     "execution_count": 7,
     "metadata": {},
     "output_type": "execute_result"
    }
   ],
   "source": [
    "%time abs(-3.14159)\n",
    "%time np.abs(-3.14159)"
   ]
  },
  {
   "cell_type": "markdown",
   "metadata": {},
   "source": [
    "Now which one of these do you think is faster? <br>\n",
    "abs([-1, 2, -3, -1, -4] or np.abs([-1, 2, -3, -1, -4])"
   ]
  },
  {
   "cell_type": "code",
   "execution_count": 8,
   "metadata": {},
   "outputs": [
    {
     "name": "stdout",
     "output_type": "stream",
     "text": [
      "CPU times: user 62 µs, sys: 1 µs, total: 63 µs\n",
      "Wall time: 68.9 µs\n",
      "CPU times: user 123 µs, sys: 14 µs, total: 137 µs\n",
      "Wall time: 145 µs\n"
     ]
    },
    {
     "data": {
      "text/plain": [
       "array([1, 2, 3, 1, 4, 1, 2, 3, 1, 4, 1, 2, 3, 1, 4, 1, 2, 3, 1, 4, 1, 2,\n",
       "       3, 1, 4, 1, 2, 3, 1, 4, 1, 2, 3, 1, 4, 1, 2, 3, 1, 4, 1, 2, 3, 1,\n",
       "       4, 1, 2, 3, 1, 4, 1, 2, 3, 1, 4, 1, 2, 3, 1, 4, 1, 2, 3, 1, 4, 1,\n",
       "       2, 3, 1, 4, 1, 2, 3, 1, 4, 1, 2, 3, 1, 4, 1, 2, 3, 1, 4, 1, 2, 3,\n",
       "       1, 4, 1, 2, 3, 1, 4, 1, 2, 3, 1, 4, 1, 2, 3, 1, 4, 1, 2, 3, 1, 4,\n",
       "       1, 2, 3, 1, 4, 1, 2, 3, 1, 4, 1, 2, 3, 1, 4, 1, 2, 3, 1, 4, 1, 2,\n",
       "       3, 1, 4, 1, 2, 3, 1, 4, 1, 2, 3, 1, 4, 1, 2, 3, 1, 4, 1, 2, 3, 1,\n",
       "       4, 1, 2, 3, 1, 4, 1, 2, 3, 1, 4, 1, 2, 3, 1, 4, 1, 2, 3, 1, 4, 1,\n",
       "       2, 3, 1, 4, 1, 2, 3, 1, 4, 1, 2, 3, 1, 4, 1, 2, 3, 1, 4, 1, 2, 3,\n",
       "       1, 4, 1, 2, 3, 1, 4, 1, 2, 3, 1, 4, 1, 2, 3, 1, 4, 1, 2, 3, 1, 4,\n",
       "       1, 2, 3, 1, 4, 1, 2, 3, 1, 4, 1, 2, 3, 1, 4, 1, 2, 3, 1, 4, 1, 2,\n",
       "       3, 1, 4, 1, 2, 3, 1, 4, 1, 2, 3, 1, 4, 1, 2, 3, 1, 4, 1, 2, 3, 1,\n",
       "       4, 1, 2, 3, 1, 4, 1, 2, 3, 1, 4, 1, 2, 3, 1, 4, 1, 2, 3, 1, 4, 1,\n",
       "       2, 3, 1, 4, 1, 2, 3, 1, 4, 1, 2, 3, 1, 4, 1, 2, 3, 1, 4, 1, 2, 3,\n",
       "       1, 4, 1, 2, 3, 1, 4, 1, 2, 3, 1, 4, 1, 2, 3, 1, 4, 1, 2, 3, 1, 4,\n",
       "       1, 2, 3, 1, 4, 1, 2, 3, 1, 4, 1, 2, 3, 1, 4, 1, 2, 3, 1, 4, 1, 2,\n",
       "       3, 1, 4, 1, 2, 3, 1, 4, 1, 2, 3, 1, 4, 1, 2, 3, 1, 4, 1, 2, 3, 1,\n",
       "       4, 1, 2, 3, 1, 4, 1, 2, 3, 1, 4, 1, 2, 3, 1, 4, 1, 2, 3, 1, 4, 1,\n",
       "       2, 3, 1, 4, 1, 2, 3, 1, 4, 1, 2, 3, 1, 4, 1, 2, 3, 1, 4, 1, 2, 3,\n",
       "       1, 4, 1, 2, 3, 1, 4, 1, 2, 3, 1, 4, 1, 2, 3, 1, 4, 1, 2, 3, 1, 4,\n",
       "       1, 2, 3, 1, 4, 1, 2, 3, 1, 4, 1, 2, 3, 1, 4, 1, 2, 3, 1, 4, 1, 2,\n",
       "       3, 1, 4, 1, 2, 3, 1, 4, 1, 2, 3, 1, 4, 1, 2, 3, 1, 4, 1, 2, 3, 1,\n",
       "       4, 1, 2, 3, 1, 4, 1, 2, 3, 1, 4, 1, 2, 3, 1, 4])"
      ]
     },
     "execution_count": 8,
     "metadata": {},
     "output_type": "execute_result"
    }
   ],
   "source": [
    "%time [abs(x) for x in [-1, 2, -3, -1, -4] * 100]\n",
    "%time np.abs([-1, 2, -3, -1, -4] * 100)"
   ]
  },
  {
   "cell_type": "markdown",
   "metadata": {},
   "source": [
    "Surprised? How about this"
   ]
  },
  {
   "cell_type": "code",
   "execution_count": 9,
   "metadata": {},
   "outputs": [
    {
     "name": "stdout",
     "output_type": "stream",
     "text": [
      "CPU times: user 602 µs, sys: 12 µs, total: 614 µs\n",
      "Wall time: 620 µs\n",
      "CPU times: user 25 µs, sys: 2 µs, total: 27 µs\n",
      "Wall time: 35.8 µs\n"
     ]
    },
    {
     "data": {
      "text/plain": [
       "array([1, 2, 3, 1, 4, 1, 2, 3, 1, 4, 1, 2, 3, 1, 4, 1, 2, 3, 1, 4, 1, 2,\n",
       "       3, 1, 4, 1, 2, 3, 1, 4, 1, 2, 3, 1, 4, 1, 2, 3, 1, 4, 1, 2, 3, 1,\n",
       "       4, 1, 2, 3, 1, 4, 1, 2, 3, 1, 4, 1, 2, 3, 1, 4, 1, 2, 3, 1, 4, 1,\n",
       "       2, 3, 1, 4, 1, 2, 3, 1, 4, 1, 2, 3, 1, 4, 1, 2, 3, 1, 4, 1, 2, 3,\n",
       "       1, 4, 1, 2, 3, 1, 4, 1, 2, 3, 1, 4, 1, 2, 3, 1, 4, 1, 2, 3, 1, 4,\n",
       "       1, 2, 3, 1, 4, 1, 2, 3, 1, 4, 1, 2, 3, 1, 4, 1, 2, 3, 1, 4, 1, 2,\n",
       "       3, 1, 4, 1, 2, 3, 1, 4, 1, 2, 3, 1, 4, 1, 2, 3, 1, 4, 1, 2, 3, 1,\n",
       "       4, 1, 2, 3, 1, 4, 1, 2, 3, 1, 4, 1, 2, 3, 1, 4, 1, 2, 3, 1, 4, 1,\n",
       "       2, 3, 1, 4, 1, 2, 3, 1, 4, 1, 2, 3, 1, 4, 1, 2, 3, 1, 4, 1, 2, 3,\n",
       "       1, 4, 1, 2, 3, 1, 4, 1, 2, 3, 1, 4, 1, 2, 3, 1, 4, 1, 2, 3, 1, 4,\n",
       "       1, 2, 3, 1, 4, 1, 2, 3, 1, 4, 1, 2, 3, 1, 4, 1, 2, 3, 1, 4, 1, 2,\n",
       "       3, 1, 4, 1, 2, 3, 1, 4, 1, 2, 3, 1, 4, 1, 2, 3, 1, 4, 1, 2, 3, 1,\n",
       "       4, 1, 2, 3, 1, 4, 1, 2, 3, 1, 4, 1, 2, 3, 1, 4, 1, 2, 3, 1, 4, 1,\n",
       "       2, 3, 1, 4, 1, 2, 3, 1, 4, 1, 2, 3, 1, 4, 1, 2, 3, 1, 4, 1, 2, 3,\n",
       "       1, 4, 1, 2, 3, 1, 4, 1, 2, 3, 1, 4, 1, 2, 3, 1, 4, 1, 2, 3, 1, 4,\n",
       "       1, 2, 3, 1, 4, 1, 2, 3, 1, 4, 1, 2, 3, 1, 4, 1, 2, 3, 1, 4, 1, 2,\n",
       "       3, 1, 4, 1, 2, 3, 1, 4, 1, 2, 3, 1, 4, 1, 2, 3, 1, 4, 1, 2, 3, 1,\n",
       "       4, 1, 2, 3, 1, 4, 1, 2, 3, 1, 4, 1, 2, 3, 1, 4, 1, 2, 3, 1, 4, 1,\n",
       "       2, 3, 1, 4, 1, 2, 3, 1, 4, 1, 2, 3, 1, 4, 1, 2, 3, 1, 4, 1, 2, 3,\n",
       "       1, 4, 1, 2, 3, 1, 4, 1, 2, 3, 1, 4, 1, 2, 3, 1, 4, 1, 2, 3, 1, 4,\n",
       "       1, 2, 3, 1, 4, 1, 2, 3, 1, 4, 1, 2, 3, 1, 4, 1, 2, 3, 1, 4, 1, 2,\n",
       "       3, 1, 4, 1, 2, 3, 1, 4, 1, 2, 3, 1, 4, 1, 2, 3, 1, 4, 1, 2, 3, 1,\n",
       "       4, 1, 2, 3, 1, 4, 1, 2, 3, 1, 4, 1, 2, 3, 1, 4])"
      ]
     },
     "execution_count": 9,
     "metadata": {},
     "output_type": "execute_result"
    }
   ],
   "source": [
    "array = np.array([-1, 2, -3, -1, -4] * 100)\n",
    "%time [abs(x) for x in array]\n",
    "%time np.abs(array)"
   ]
  },
  {
   "cell_type": "markdown",
   "metadata": {},
   "source": [
    "Stride tricks with numpy. <br><br>\n",
    "Sliding Window"
   ]
  },
  {
   "cell_type": "code",
   "execution_count": 10,
   "metadata": {},
   "outputs": [
    {
     "name": "stdout",
     "output_type": "stream",
     "text": [
      "[0 1 2 3 4 5 6 7 8 9]\n"
     ]
    }
   ],
   "source": [
    "a = np.arange(10)\n",
    "s = 2\n",
    "w = 4\n",
    "print(a)"
   ]
  },
  {
   "cell_type": "code",
   "execution_count": 11,
   "metadata": {},
   "outputs": [
    {
     "data": {
      "text/plain": [
       "array([[0, 1, 2, 3],\n",
       "       [1, 2, 3, 4],\n",
       "       [2, 3, 4, 5],\n",
       "       [3, 4, 5, 6],\n",
       "       [4, 5, 6, 7],\n",
       "       [5, 6, 7, 8],\n",
       "       [6, 7, 8, 9]])"
      ]
     },
     "execution_count": 11,
     "metadata": {},
     "output_type": "execute_result"
    }
   ],
   "source": [
    "np.lib.stride_tricks.as_strided(a, shape = (len(a) - w + 1, w), strides = a.strides * 2 )"
   ]
  },
  {
   "cell_type": "code",
   "execution_count": 12,
   "metadata": {},
   "outputs": [
    {
     "data": {
      "text/plain": [
       "array([[0, 1, 2, 3],\n",
       "       [2, 3, 4, 5],\n",
       "       [4, 5, 6, 7],\n",
       "       [6, 7, 8, 9]])"
      ]
     },
     "execution_count": 12,
     "metadata": {},
     "output_type": "execute_result"
    }
   ],
   "source": [
    "np.lib.stride_tricks.as_strided(a, shape = (len(a) - w + 1, w), strides = a.strides * 2 )[::s]"
   ]
  },
  {
   "cell_type": "markdown",
   "metadata": {},
   "source": [
    "Short aside - <br>\n",
    "`[::]` was added to Python at the request of the developers of Numerical Python, which uses the third argument extensively."
   ]
  },
  {
   "cell_type": "code",
   "execution_count": 13,
   "metadata": {},
   "outputs": [
    {
     "name": "stdout",
     "output_type": "stream",
     "text": [
      "[[ 0  1  2  3]\n",
      " [ 4  5  6  7]\n",
      " [ 8  9 10 11]\n",
      " [12 13 14 15]\n",
      " [16 17 18 19]]\n"
     ]
    }
   ],
   "source": [
    "a = np.arange(20).reshape(5, 4)\n",
    "print(a)"
   ]
  },
  {
   "cell_type": "code",
   "execution_count": 14,
   "metadata": {},
   "outputs": [
    {
     "data": {
      "text/plain": [
       "array([[[ 0,  1],\n",
       "        [ 4,  5]],\n",
       "\n",
       "       [[ 2,  3],\n",
       "        [ 6,  7]],\n",
       "\n",
       "       [[ 4,  5],\n",
       "        [ 8,  9]],\n",
       "\n",
       "       [[ 6,  7],\n",
       "        [10, 11]],\n",
       "\n",
       "       [[ 8,  9],\n",
       "        [12, 13]],\n",
       "\n",
       "       [[10, 11],\n",
       "        [14, 15]],\n",
       "\n",
       "       [[12, 13],\n",
       "        [16, 17]],\n",
       "\n",
       "       [[14, 15],\n",
       "        [18, 19]]])"
      ]
     },
     "execution_count": 14,
     "metadata": {},
     "output_type": "execute_result"
    }
   ],
   "source": [
    "np.lib.stride_tricks.as_strided(a, shape = (15, 2, 2), strides = (8, 32, 8))[::2]"
   ]
  },
  {
   "cell_type": "markdown",
   "metadata": {},
   "source": [
    "Instead of striding using [::2], chagne the shape and strides in as_strided to create same effect."
   ]
  },
  {
   "cell_type": "code",
   "execution_count": 15,
   "metadata": {},
   "outputs": [
    {
     "data": {
      "text/plain": [
       "array([[[ 0,  1],\n",
       "        [ 4,  5]],\n",
       "\n",
       "       [[ 2,  3],\n",
       "        [ 6,  7]],\n",
       "\n",
       "       [[ 4,  5],\n",
       "        [ 8,  9]],\n",
       "\n",
       "       [[ 6,  7],\n",
       "        [10, 11]],\n",
       "\n",
       "       [[ 8,  9],\n",
       "        [12, 13]],\n",
       "\n",
       "       [[10, 11],\n",
       "        [14, 15]],\n",
       "\n",
       "       [[12, 13],\n",
       "        [16, 17]],\n",
       "\n",
       "       [[14, 15],\n",
       "        [18, 19]]])"
      ]
     },
     "execution_count": 15,
     "metadata": {},
     "output_type": "execute_result"
    }
   ],
   "source": [
    "np.lib.stride_tricks.as_strided(a, shape = (8, 2, 2), strides = (16, 32, 8))"
   ]
  },
  {
   "cell_type": "code",
   "execution_count": 16,
   "metadata": {
    "collapsed": true
   },
   "outputs": [],
   "source": [
    "x = np.arange(10)"
   ]
  },
  {
   "cell_type": "markdown",
   "metadata": {},
   "source": [
    "How do these arrays look in memory?"
   ]
  },
  {
   "cell_type": "markdown",
   "metadata": {},
   "source": [
    "![alt text](NDArray_structure.png \"NDArray Structure\")"
   ]
  },
  {
   "cell_type": "code",
   "execution_count": 17,
   "metadata": {},
   "outputs": [
    {
     "data": {
      "text/plain": [
       "{'data': (140654237035616, False),\n",
       " 'descr': [('', '<i8')],\n",
       " 'shape': (10,),\n",
       " 'strides': None,\n",
       " 'typestr': '<i8',\n",
       " 'version': 3}"
      ]
     },
     "execution_count": 17,
     "metadata": {},
     "output_type": "execute_result"
    }
   ],
   "source": [
    "x.__array_interface__"
   ]
  },
  {
   "cell_type": "code",
   "execution_count": 18,
   "metadata": {
    "collapsed": true
   },
   "outputs": [],
   "source": [
    "y = np.lib.stride_tricks.as_strided(x, shape = (9, 2), strides = x.strides * 2)"
   ]
  },
  {
   "cell_type": "code",
   "execution_count": 19,
   "metadata": {},
   "outputs": [
    {
     "data": {
      "text/plain": [
       "{'data': (140654237035616, False),\n",
       " 'descr': [('', '<i8')],\n",
       " 'shape': (9, 2),\n",
       " 'strides': (8, 8),\n",
       " 'typestr': '<i8',\n",
       " 'version': 3}"
      ]
     },
     "execution_count": 19,
     "metadata": {},
     "output_type": "execute_result"
    }
   ],
   "source": [
    "y.__array_interface__"
   ]
  },
  {
   "cell_type": "markdown",
   "metadata": {
    "collapsed": true
   },
   "source": [
    "Einsum <br>\n",
    "dot, diagonal, trace, sum, matrix multiplication"
   ]
  },
  {
   "cell_type": "code",
   "execution_count": 20,
   "metadata": {
    "collapsed": true
   },
   "outputs": [],
   "source": [
    "A = np.array([[1, 1, 1],\n",
    "              [2, 2, 2],\n",
    "              [5, 5, 5]])\n",
    "\n",
    "B = np.array([[0, 1, 0],\n",
    "              [1, 1, 0],\n",
    "              [1, 1, 1]])"
   ]
  },
  {
   "cell_type": "markdown",
   "metadata": {},
   "source": [
    "Return a view of the matrix"
   ]
  },
  {
   "cell_type": "code",
   "execution_count": 21,
   "metadata": {},
   "outputs": [
    {
     "data": {
      "text/plain": [
       "array([[1, 1, 1],\n",
       "       [2, 2, 2],\n",
       "       [5, 5, 5]])"
      ]
     },
     "execution_count": 21,
     "metadata": {},
     "output_type": "execute_result"
    }
   ],
   "source": [
    "np.einsum('ij', A) "
   ]
  },
  {
   "cell_type": "code",
   "execution_count": 22,
   "metadata": {},
   "outputs": [
    {
     "data": {
      "text/plain": [
       "array([[1, 1, 1],\n",
       "       [2, 2, 2],\n",
       "       [5, 5, 5]])"
      ]
     },
     "execution_count": 22,
     "metadata": {},
     "output_type": "execute_result"
    }
   ],
   "source": [
    "A.view()"
   ]
  },
  {
   "cell_type": "markdown",
   "metadata": {},
   "source": [
    "Matrix Transpose (doesn't work if you want to switch around axes in 3D etc.)"
   ]
  },
  {
   "cell_type": "code",
   "execution_count": 23,
   "metadata": {},
   "outputs": [
    {
     "data": {
      "text/plain": [
       "array([[1, 2, 5],\n",
       "       [1, 2, 5],\n",
       "       [1, 2, 5]])"
      ]
     },
     "execution_count": 23,
     "metadata": {},
     "output_type": "execute_result"
    }
   ],
   "source": [
    "np.einsum('ji', A)"
   ]
  },
  {
   "cell_type": "code",
   "execution_count": 24,
   "metadata": {},
   "outputs": [
    {
     "data": {
      "text/plain": [
       "array([[1, 2, 5],\n",
       "       [1, 2, 5],\n",
       "       [1, 2, 5]])"
      ]
     },
     "execution_count": 24,
     "metadata": {},
     "output_type": "execute_result"
    }
   ],
   "source": [
    "A.T"
   ]
  },
  {
   "cell_type": "markdown",
   "metadata": {},
   "source": [
    "Matrix Diagonal"
   ]
  },
  {
   "cell_type": "code",
   "execution_count": 25,
   "metadata": {},
   "outputs": [
    {
     "name": "stdout",
     "output_type": "stream",
     "text": [
      "CPU times: user 20 µs, sys: 1e+03 ns, total: 21 µs\n",
      "Wall time: 27.2 µs\n"
     ]
    },
    {
     "data": {
      "text/plain": [
       "array([1, 2, 5])"
      ]
     },
     "execution_count": 25,
     "metadata": {},
     "output_type": "execute_result"
    }
   ],
   "source": [
    "%time np.einsum('ii->i', A)"
   ]
  },
  {
   "cell_type": "code",
   "execution_count": 26,
   "metadata": {},
   "outputs": [
    {
     "name": "stdout",
     "output_type": "stream",
     "text": [
      "CPU times: user 30 µs, sys: 12 µs, total: 42 µs\n",
      "Wall time: 48.2 µs\n"
     ]
    },
    {
     "data": {
      "text/plain": [
       "array([1, 2, 5])"
      ]
     },
     "execution_count": 26,
     "metadata": {},
     "output_type": "execute_result"
    }
   ],
   "source": [
    "%time np.diag(A)"
   ]
  },
  {
   "cell_type": "markdown",
   "metadata": {},
   "source": [
    "Matrix Trace"
   ]
  },
  {
   "cell_type": "code",
   "execution_count": 27,
   "metadata": {},
   "outputs": [
    {
     "name": "stdout",
     "output_type": "stream",
     "text": [
      "CPU times: user 49 µs, sys: 27 µs, total: 76 µs\n",
      "Wall time: 83.2 µs\n"
     ]
    },
    {
     "data": {
      "text/plain": [
       "8"
      ]
     },
     "execution_count": 27,
     "metadata": {},
     "output_type": "execute_result"
    }
   ],
   "source": [
    "%time np.einsum('ii', A)"
   ]
  },
  {
   "cell_type": "markdown",
   "metadata": {},
   "source": [
    "Sum along an axis <br> You try!"
   ]
  },
  {
   "cell_type": "code",
   "execution_count": 31,
   "metadata": {},
   "outputs": [
    {
     "name": "stdout",
     "output_type": "stream",
     "text": [
      "CPU times: user 33 µs, sys: 0 ns, total: 33 µs\n",
      "Wall time: 41 µs\n",
      "CPU times: user 43 µs, sys: 1e+03 ns, total: 44 µs\n",
      "Wall time: 50.1 µs\n"
     ]
    },
    {
     "data": {
      "text/plain": [
       "array([ 3,  6, 15])"
      ]
     },
     "execution_count": 31,
     "metadata": {},
     "output_type": "execute_result"
    }
   ],
   "source": [
    "%time np.einsum('ij->i', A)\n",
    "%time np.sum(A, axis=1)"
   ]
  },
  {
   "cell_type": "markdown",
   "metadata": {
    "collapsed": true
   },
   "source": [
    "Matrix and element-wise multiplication."
   ]
  },
  {
   "cell_type": "code",
   "execution_count": null,
   "metadata": {
    "collapsed": true
   },
   "outputs": [],
   "source": [
    "A * B"
   ]
  },
  {
   "cell_type": "code",
   "execution_count": null,
   "metadata": {
    "collapsed": true
   },
   "outputs": [],
   "source": [
    "np.einsum('ij, ij -> ij', A, B)"
   ]
  },
  {
   "cell_type": "code",
   "execution_count": null,
   "metadata": {
    "collapsed": true
   },
   "outputs": [],
   "source": [
    "A @ B"
   ]
  },
  {
   "cell_type": "code",
   "execution_count": null,
   "metadata": {
    "collapsed": true
   },
   "outputs": [],
   "source": [
    "np.einsum('ij, jk-> ik', A, B)"
   ]
  },
  {
   "cell_type": "code",
   "execution_count": null,
   "metadata": {
    "collapsed": true
   },
   "outputs": [],
   "source": [
    "np.dot(A, B)"
   ]
  },
  {
   "cell_type": "markdown",
   "metadata": {},
   "source": [
    "Using Einsum and stride tricks to do a convultion operation!"
   ]
  },
  {
   "cell_type": "markdown",
   "metadata": {},
   "source": [
    "![alt text](arbitrary_padding_no_strides.gif \"Convolution\")"
   ]
  },
  {
   "cell_type": "markdown",
   "metadata": {},
   "source": [
    "![alt text](2005-06-26-essence-of-images-convolution-matrix.png \"Convolution\")"
   ]
  },
  {
   "cell_type": "code",
   "execution_count": null,
   "metadata": {
    "collapsed": true
   },
   "outputs": [],
   "source": [
    "matrix = np.arange(25).reshape((5, 5))\n",
    "print(matrix)"
   ]
  },
  {
   "cell_type": "code",
   "execution_count": null,
   "metadata": {
    "collapsed": true
   },
   "outputs": [],
   "source": [
    "conv_filter = np.array([[1, 1, 0], [1, 2, 3], [0, 1, 1]])\n",
    "print(conv_filter)"
   ]
  },
  {
   "cell_type": "code",
   "execution_count": null,
   "metadata": {
    "collapsed": true
   },
   "outputs": [],
   "source": [
    "filter_shape = conv_filter.shape\n",
    "conv_shape   = tuple(np.subtract(matrix.shape, filter_shape) + 1) + filter_shape\n",
    "conv_strides = matrix.strides * 2\n",
    "print(conv_shape)\n",
    "print(conv_strides)"
   ]
  },
  {
   "cell_type": "code",
   "execution_count": null,
   "metadata": {
    "collapsed": true
   },
   "outputs": [],
   "source": [
    "sub_matrices = np.lib.stride_tricks.as_strided(matrix, conv_shape, conv_strides)"
   ]
  },
  {
   "cell_type": "code",
   "execution_count": null,
   "metadata": {
    "collapsed": true
   },
   "outputs": [],
   "source": [
    "print(matrix)\n",
    "print(sub_matrices)"
   ]
  },
  {
   "cell_type": "code",
   "execution_count": null,
   "metadata": {
    "collapsed": true
   },
   "outputs": [],
   "source": [
    "convolved = np.einsum('ij, ijkl->kl', conv_filter, sub_matrices)"
   ]
  },
  {
   "cell_type": "code",
   "execution_count": null,
   "metadata": {
    "collapsed": true,
    "scrolled": true
   },
   "outputs": [],
   "source": [
    "print(convolved)"
   ]
  },
  {
   "cell_type": "markdown",
   "metadata": {},
   "source": [
    "Exercise!"
   ]
  },
  {
   "cell_type": "code",
   "execution_count": null,
   "metadata": {
    "collapsed": true
   },
   "outputs": [],
   "source": [
    "a = np.arange(15)"
   ]
  },
  {
   "cell_type": "markdown",
   "metadata": {},
   "source": [
    "* Window this array such that each window has 3 elements in it with a jump of 2 windows\n",
    "* Find the row-wise mean of the last two elements in every alternate row.\n",
    "\n",
    "(Answer - [7, 8])"
   ]
  },
  {
   "cell_type": "code",
   "execution_count": null,
   "metadata": {
    "collapsed": true
   },
   "outputs": [],
   "source": []
  }
 ],
 "metadata": {
  "kernelspec": {
   "display_name": "Python 3",
   "language": "python",
   "name": "python3"
  },
  "language_info": {
   "codemirror_mode": {
    "name": "ipython",
    "version": 3
   },
   "file_extension": ".py",
   "mimetype": "text/x-python",
   "name": "python",
   "nbconvert_exporter": "python",
   "pygments_lexer": "ipython3",
   "version": "3.6.2"
  }
 },
 "nbformat": 4,
 "nbformat_minor": 2
}
