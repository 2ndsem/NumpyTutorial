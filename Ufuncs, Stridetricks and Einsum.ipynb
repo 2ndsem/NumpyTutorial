{
 "cells": [
  {
   "cell_type": "code",
   "execution_count": 4,
   "metadata": {
    "collapsed": true
   },
   "outputs": [],
   "source": [
    "import numpy as np"
   ]
  },
  {
   "cell_type": "markdown",
   "metadata": {},
   "source": [
    "For loops vs Numpy\n",
    "<br>\n",
    "Let's take a look at how Numpy's built in mathematical functions save us a lot of time by making looping redundant"
   ]
  },
  {
   "cell_type": "code",
   "execution_count": 2,
   "metadata": {},
   "outputs": [
    {
     "name": "stdout",
     "output_type": "stream",
     "text": [
      "CPU times: user 967 µs, sys: 1.09 ms, total: 2.06 ms\n",
      "Wall time: 853 µs\n",
      "CPU times: user 3.36 ms, sys: 1.91 ms, total: 5.26 ms\n",
      "Wall time: 5.23 ms\n"
     ]
    }
   ],
   "source": [
    "#core/src/multiarray/ctors.c\n",
    "%time x = np.arange(100000)\n",
    "%time y = list(range(100000))"
   ]
  },
  {
   "cell_type": "code",
   "execution_count": 5,
   "metadata": {},
   "outputs": [
    {
     "name": "stdout",
     "output_type": "stream",
     "text": [
      "CPU times: user 328 µs, sys: 160 µs, total: 488 µs\n",
      "Wall time: 316 µs\n"
     ]
    },
    {
     "data": {
      "text/plain": [
       "4999950000"
      ]
     },
     "execution_count": 5,
     "metadata": {},
     "output_type": "execute_result"
    }
   ],
   "source": [
    "%time np.sum(x)"
   ]
  },
  {
   "cell_type": "code",
   "execution_count": 8,
   "metadata": {},
   "outputs": [
    {
     "name": "stdout",
     "output_type": "stream",
     "text": [
      "CPU times: user 20.5 ms, sys: 688 µs, total: 21.2 ms\n",
      "Wall time: 20.9 ms\n"
     ]
    }
   ],
   "source": [
    "%%time\n",
    "total = 0\n",
    "for _ in y:\n",
    "    total += _"
   ]
  },
  {
   "cell_type": "code",
   "execution_count": 9,
   "metadata": {},
   "outputs": [
    {
     "name": "stdout",
     "output_type": "stream",
     "text": [
      "CPU times: user 657 µs, sys: 273 µs, total: 930 µs\n",
      "Wall time: 612 µs\n"
     ]
    }
   ],
   "source": [
    "%%time\n",
    "mean = np.average(x)"
   ]
  },
  {
   "cell_type": "code",
   "execution_count": 10,
   "metadata": {},
   "outputs": [
    {
     "name": "stdout",
     "output_type": "stream",
     "text": [
      "CPU times: user 34.7 ms, sys: 1.59 ms, total: 36.3 ms\n",
      "Wall time: 35.1 ms\n"
     ]
    }
   ],
   "source": [
    "%%time \n",
    "total = 0\n",
    "count = 0\n",
    "for _ in y:\n",
    "    total += _\n",
    "    count += _\n",
    "    \n",
    "total / count"
   ]
  },
  {
   "cell_type": "markdown",
   "metadata": {},
   "source": [
    "Which one do you think is faster?\n",
    "<br>\n",
    "abs(3.14159) or np.abs(3.14159)"
   ]
  },
  {
   "cell_type": "code",
   "execution_count": 11,
   "metadata": {},
   "outputs": [
    {
     "name": "stdout",
     "output_type": "stream",
     "text": [
      "CPU times: user 6 µs, sys: 1 µs, total: 7 µs\n",
      "Wall time: 11 µs\n",
      "CPU times: user 25 µs, sys: 1 µs, total: 26 µs\n",
      "Wall time: 31 µs\n"
     ]
    },
    {
     "data": {
      "text/plain": [
       "3.14159"
      ]
     },
     "execution_count": 11,
     "metadata": {},
     "output_type": "execute_result"
    }
   ],
   "source": [
    "%time abs(-3.14159)\n",
    "%time np.abs(-3.14159)"
   ]
  },
  {
   "cell_type": "markdown",
   "metadata": {},
   "source": [
    "Now which one of these do you think is faster? <br>\n",
    "abs([-1, 2, -3, -1, -4] or np.abs([-1, 2, -3, -1, -4])"
   ]
  },
  {
   "cell_type": "code",
   "execution_count": 49,
   "metadata": {},
   "outputs": [
    {
     "name": "stdout",
     "output_type": "stream",
     "text": [
      "CPU times: user 65 µs, sys: 0 ns, total: 65 µs\n",
      "Wall time: 72 µs\n",
      "CPU times: user 80 µs, sys: 1 µs, total: 81 µs\n",
      "Wall time: 85.8 µs\n"
     ]
    },
    {
     "data": {
      "text/plain": [
       "array([1, 2, 3, 1, 4, 1, 2, 3, 1, 4, 1, 2, 3, 1, 4, 1, 2, 3, 1, 4, 1, 2,\n",
       "       3, 1, 4, 1, 2, 3, 1, 4, 1, 2, 3, 1, 4, 1, 2, 3, 1, 4, 1, 2, 3, 1,\n",
       "       4, 1, 2, 3, 1, 4, 1, 2, 3, 1, 4, 1, 2, 3, 1, 4, 1, 2, 3, 1, 4, 1,\n",
       "       2, 3, 1, 4, 1, 2, 3, 1, 4, 1, 2, 3, 1, 4, 1, 2, 3, 1, 4, 1, 2, 3,\n",
       "       1, 4, 1, 2, 3, 1, 4, 1, 2, 3, 1, 4, 1, 2, 3, 1, 4, 1, 2, 3, 1, 4,\n",
       "       1, 2, 3, 1, 4, 1, 2, 3, 1, 4, 1, 2, 3, 1, 4, 1, 2, 3, 1, 4, 1, 2,\n",
       "       3, 1, 4, 1, 2, 3, 1, 4, 1, 2, 3, 1, 4, 1, 2, 3, 1, 4, 1, 2, 3, 1,\n",
       "       4, 1, 2, 3, 1, 4, 1, 2, 3, 1, 4, 1, 2, 3, 1, 4, 1, 2, 3, 1, 4, 1,\n",
       "       2, 3, 1, 4, 1, 2, 3, 1, 4, 1, 2, 3, 1, 4, 1, 2, 3, 1, 4, 1, 2, 3,\n",
       "       1, 4, 1, 2, 3, 1, 4, 1, 2, 3, 1, 4, 1, 2, 3, 1, 4, 1, 2, 3, 1, 4,\n",
       "       1, 2, 3, 1, 4, 1, 2, 3, 1, 4, 1, 2, 3, 1, 4, 1, 2, 3, 1, 4, 1, 2,\n",
       "       3, 1, 4, 1, 2, 3, 1, 4, 1, 2, 3, 1, 4, 1, 2, 3, 1, 4, 1, 2, 3, 1,\n",
       "       4, 1, 2, 3, 1, 4, 1, 2, 3, 1, 4, 1, 2, 3, 1, 4, 1, 2, 3, 1, 4, 1,\n",
       "       2, 3, 1, 4, 1, 2, 3, 1, 4, 1, 2, 3, 1, 4, 1, 2, 3, 1, 4, 1, 2, 3,\n",
       "       1, 4, 1, 2, 3, 1, 4, 1, 2, 3, 1, 4, 1, 2, 3, 1, 4, 1, 2, 3, 1, 4,\n",
       "       1, 2, 3, 1, 4, 1, 2, 3, 1, 4, 1, 2, 3, 1, 4, 1, 2, 3, 1, 4, 1, 2,\n",
       "       3, 1, 4, 1, 2, 3, 1, 4, 1, 2, 3, 1, 4, 1, 2, 3, 1, 4, 1, 2, 3, 1,\n",
       "       4, 1, 2, 3, 1, 4, 1, 2, 3, 1, 4, 1, 2, 3, 1, 4, 1, 2, 3, 1, 4, 1,\n",
       "       2, 3, 1, 4, 1, 2, 3, 1, 4, 1, 2, 3, 1, 4, 1, 2, 3, 1, 4, 1, 2, 3,\n",
       "       1, 4, 1, 2, 3, 1, 4, 1, 2, 3, 1, 4, 1, 2, 3, 1, 4, 1, 2, 3, 1, 4,\n",
       "       1, 2, 3, 1, 4, 1, 2, 3, 1, 4, 1, 2, 3, 1, 4, 1, 2, 3, 1, 4, 1, 2,\n",
       "       3, 1, 4, 1, 2, 3, 1, 4, 1, 2, 3, 1, 4, 1, 2, 3, 1, 4, 1, 2, 3, 1,\n",
       "       4, 1, 2, 3, 1, 4, 1, 2, 3, 1, 4, 1, 2, 3, 1, 4])"
      ]
     },
     "execution_count": 49,
     "metadata": {},
     "output_type": "execute_result"
    }
   ],
   "source": [
    "%time [abs(x) for x in [-1, 2, -3, -1, -4] * 100]\n",
    "%time np.abs([-1, 2, -3, -1, -4] * 100)"
   ]
  },
  {
   "cell_type": "markdown",
   "metadata": {},
   "source": [
    "Surprised? How about this"
   ]
  },
  {
   "cell_type": "code",
   "execution_count": 50,
   "metadata": {},
   "outputs": [
    {
     "name": "stdout",
     "output_type": "stream",
     "text": [
      "CPU times: user 122 µs, sys: 0 ns, total: 122 µs\n",
      "Wall time: 128 µs\n",
      "CPU times: user 27 µs, sys: 1e+03 ns, total: 28 µs\n",
      "Wall time: 37 µs\n"
     ]
    },
    {
     "data": {
      "text/plain": [
       "array([1, 2, 3, 1, 4, 1, 2, 3, 1, 4, 1, 2, 3, 1, 4, 1, 2, 3, 1, 4, 1, 2,\n",
       "       3, 1, 4, 1, 2, 3, 1, 4, 1, 2, 3, 1, 4, 1, 2, 3, 1, 4, 1, 2, 3, 1,\n",
       "       4, 1, 2, 3, 1, 4, 1, 2, 3, 1, 4, 1, 2, 3, 1, 4, 1, 2, 3, 1, 4, 1,\n",
       "       2, 3, 1, 4, 1, 2, 3, 1, 4, 1, 2, 3, 1, 4, 1, 2, 3, 1, 4, 1, 2, 3,\n",
       "       1, 4, 1, 2, 3, 1, 4, 1, 2, 3, 1, 4, 1, 2, 3, 1, 4, 1, 2, 3, 1, 4,\n",
       "       1, 2, 3, 1, 4, 1, 2, 3, 1, 4, 1, 2, 3, 1, 4, 1, 2, 3, 1, 4, 1, 2,\n",
       "       3, 1, 4, 1, 2, 3, 1, 4, 1, 2, 3, 1, 4, 1, 2, 3, 1, 4, 1, 2, 3, 1,\n",
       "       4, 1, 2, 3, 1, 4, 1, 2, 3, 1, 4, 1, 2, 3, 1, 4, 1, 2, 3, 1, 4, 1,\n",
       "       2, 3, 1, 4, 1, 2, 3, 1, 4, 1, 2, 3, 1, 4, 1, 2, 3, 1, 4, 1, 2, 3,\n",
       "       1, 4, 1, 2, 3, 1, 4, 1, 2, 3, 1, 4, 1, 2, 3, 1, 4, 1, 2, 3, 1, 4,\n",
       "       1, 2, 3, 1, 4, 1, 2, 3, 1, 4, 1, 2, 3, 1, 4, 1, 2, 3, 1, 4, 1, 2,\n",
       "       3, 1, 4, 1, 2, 3, 1, 4, 1, 2, 3, 1, 4, 1, 2, 3, 1, 4, 1, 2, 3, 1,\n",
       "       4, 1, 2, 3, 1, 4, 1, 2, 3, 1, 4, 1, 2, 3, 1, 4, 1, 2, 3, 1, 4, 1,\n",
       "       2, 3, 1, 4, 1, 2, 3, 1, 4, 1, 2, 3, 1, 4, 1, 2, 3, 1, 4, 1, 2, 3,\n",
       "       1, 4, 1, 2, 3, 1, 4, 1, 2, 3, 1, 4, 1, 2, 3, 1, 4, 1, 2, 3, 1, 4,\n",
       "       1, 2, 3, 1, 4, 1, 2, 3, 1, 4, 1, 2, 3, 1, 4, 1, 2, 3, 1, 4, 1, 2,\n",
       "       3, 1, 4, 1, 2, 3, 1, 4, 1, 2, 3, 1, 4, 1, 2, 3, 1, 4, 1, 2, 3, 1,\n",
       "       4, 1, 2, 3, 1, 4, 1, 2, 3, 1, 4, 1, 2, 3, 1, 4, 1, 2, 3, 1, 4, 1,\n",
       "       2, 3, 1, 4, 1, 2, 3, 1, 4, 1, 2, 3, 1, 4, 1, 2, 3, 1, 4, 1, 2, 3,\n",
       "       1, 4, 1, 2, 3, 1, 4, 1, 2, 3, 1, 4, 1, 2, 3, 1, 4, 1, 2, 3, 1, 4,\n",
       "       1, 2, 3, 1, 4, 1, 2, 3, 1, 4, 1, 2, 3, 1, 4, 1, 2, 3, 1, 4, 1, 2,\n",
       "       3, 1, 4, 1, 2, 3, 1, 4, 1, 2, 3, 1, 4, 1, 2, 3, 1, 4, 1, 2, 3, 1,\n",
       "       4, 1, 2, 3, 1, 4, 1, 2, 3, 1, 4, 1, 2, 3, 1, 4])"
      ]
     },
     "execution_count": 50,
     "metadata": {},
     "output_type": "execute_result"
    }
   ],
   "source": [
    "array = np.array([-1, 2, -3, -1, -4] * 100)\n",
    "%time [abs(x) for x in array]\n",
    "%time np.abs(array)"
   ]
  },
  {
   "cell_type": "markdown",
   "metadata": {},
   "source": [
    "Stride tricks with numpy. <br><br>\n",
    "Sliding Window"
   ]
  },
  {
   "cell_type": "code",
   "execution_count": 53,
   "metadata": {},
   "outputs": [
    {
     "name": "stdout",
     "output_type": "stream",
     "text": [
      "[0 1 2 3 4 5 6 7 8 9]\n"
     ]
    }
   ],
   "source": [
    "a = np.arange(10)\n",
    "s = 2\n",
    "w = 4\n",
    "print(a)"
   ]
  },
  {
   "cell_type": "code",
   "execution_count": 54,
   "metadata": {},
   "outputs": [
    {
     "data": {
      "text/plain": [
       "array([[0, 1, 2, 3],\n",
       "       [1, 2, 3, 4],\n",
       "       [2, 3, 4, 5],\n",
       "       [3, 4, 5, 6],\n",
       "       [4, 5, 6, 7],\n",
       "       [5, 6, 7, 8],\n",
       "       [6, 7, 8, 9]])"
      ]
     },
     "execution_count": 54,
     "metadata": {},
     "output_type": "execute_result"
    }
   ],
   "source": [
    "np.lib.stride_tricks.as_strided(a, shape = (len(a) - w + 1, w), strides = a.strides * 2 )"
   ]
  },
  {
   "cell_type": "code",
   "execution_count": 55,
   "metadata": {},
   "outputs": [
    {
     "data": {
      "text/plain": [
       "array([[0, 1, 2, 3],\n",
       "       [2, 3, 4, 5],\n",
       "       [4, 5, 6, 7],\n",
       "       [6, 7, 8, 9]])"
      ]
     },
     "execution_count": 55,
     "metadata": {},
     "output_type": "execute_result"
    }
   ],
   "source": [
    "np.lib.stride_tricks.as_strided(a, shape = (len(a) - w + 1, w), strides = a.strides * 2 )[::s]"
   ]
  },
  {
   "cell_type": "markdown",
   "metadata": {},
   "source": [
    "Short aside - <br>\n",
    "`[::]` was added to Python at the request of the developers of Numerical Python, which uses the third argument extensively."
   ]
  },
  {
   "cell_type": "code",
   "execution_count": 56,
   "metadata": {},
   "outputs": [
    {
     "name": "stdout",
     "output_type": "stream",
     "text": [
      "[[ 0  1  2  3]\n",
      " [ 4  5  6  7]\n",
      " [ 8  9 10 11]\n",
      " [12 13 14 15]\n",
      " [16 17 18 19]]\n"
     ]
    }
   ],
   "source": [
    "a = np.arange(20).reshape(5, 4)\n",
    "print(a)"
   ]
  },
  {
   "cell_type": "code",
   "execution_count": 57,
   "metadata": {},
   "outputs": [
    {
     "data": {
      "text/plain": [
       "array([[[ 0,  1],\n",
       "        [ 4,  5]],\n",
       "\n",
       "       [[ 2,  3],\n",
       "        [ 6,  7]],\n",
       "\n",
       "       [[ 4,  5],\n",
       "        [ 8,  9]],\n",
       "\n",
       "       [[ 6,  7],\n",
       "        [10, 11]],\n",
       "\n",
       "       [[ 8,  9],\n",
       "        [12, 13]],\n",
       "\n",
       "       [[10, 11],\n",
       "        [14, 15]],\n",
       "\n",
       "       [[12, 13],\n",
       "        [16, 17]],\n",
       "\n",
       "       [[14, 15],\n",
       "        [18, 19]]])"
      ]
     },
     "execution_count": 57,
     "metadata": {},
     "output_type": "execute_result"
    }
   ],
   "source": [
    "np.lib.stride_tricks.as_strided(a, shape = (15, 2, 2), strides = (8, 32, 8))[::2]"
   ]
  },
  {
   "cell_type": "markdown",
   "metadata": {},
   "source": [
    "Instead of striding using [::2], chagne the shape and strides in as_strided to create same effect."
   ]
  },
  {
   "cell_type": "code",
   "execution_count": 58,
   "metadata": {},
   "outputs": [
    {
     "data": {
      "text/plain": [
       "array([[[ 0,  1],\n",
       "        [ 4,  5]],\n",
       "\n",
       "       [[ 2,  3],\n",
       "        [ 6,  7]],\n",
       "\n",
       "       [[ 4,  5],\n",
       "        [ 8,  9]],\n",
       "\n",
       "       [[ 6,  7],\n",
       "        [10, 11]],\n",
       "\n",
       "       [[ 8,  9],\n",
       "        [12, 13]],\n",
       "\n",
       "       [[10, 11],\n",
       "        [14, 15]],\n",
       "\n",
       "       [[12, 13],\n",
       "        [16, 17]],\n",
       "\n",
       "       [[14, 15],\n",
       "        [18, 19]]])"
      ]
     },
     "execution_count": 58,
     "metadata": {},
     "output_type": "execute_result"
    }
   ],
   "source": [
    "np.lib.stride_tricks.as_strided(a, shape = (8, 2, 2), strides = (16, 32, 8))"
   ]
  },
  {
   "cell_type": "code",
   "execution_count": 59,
   "metadata": {
    "collapsed": true
   },
   "outputs": [],
   "source": [
    "x = np.arange(10)"
   ]
  },
  {
   "cell_type": "markdown",
   "metadata": {},
   "source": [
    "How do these arrays look in memory?"
   ]
  },
  {
   "cell_type": "markdown",
   "metadata": {},
   "source": [
    "![alt text](NDArray_structure.png \"NDArray Structure\")"
   ]
  },
  {
   "cell_type": "code",
   "execution_count": 60,
   "metadata": {},
   "outputs": [
    {
     "data": {
      "text/plain": [
       "{'data': (140416130682016, False),\n",
       " 'descr': [('', '<i8')],\n",
       " 'shape': (10,),\n",
       " 'strides': None,\n",
       " 'typestr': '<i8',\n",
       " 'version': 3}"
      ]
     },
     "execution_count": 60,
     "metadata": {},
     "output_type": "execute_result"
    }
   ],
   "source": [
    "x.__array_interface__"
   ]
  },
  {
   "cell_type": "code",
   "execution_count": 61,
   "metadata": {
    "collapsed": true
   },
   "outputs": [],
   "source": [
    "y = np.lib.stride_tricks.as_strided(x, shape = (9, 2), strides = x.strides * 2)"
   ]
  },
  {
   "cell_type": "code",
   "execution_count": 62,
   "metadata": {},
   "outputs": [
    {
     "data": {
      "text/plain": [
       "{'data': (140416130682016, False),\n",
       " 'descr': [('', '<i8')],\n",
       " 'shape': (9, 2),\n",
       " 'strides': (8, 8),\n",
       " 'typestr': '<i8',\n",
       " 'version': 3}"
      ]
     },
     "execution_count": 62,
     "metadata": {},
     "output_type": "execute_result"
    }
   ],
   "source": [
    "y.__array_interface__"
   ]
  },
  {
   "cell_type": "markdown",
   "metadata": {
    "collapsed": true
   },
   "source": [
    "Einsum <br>\n",
    "dot, diagonal, trace, sum, matrix multiplication"
   ]
  },
  {
   "cell_type": "code",
   "execution_count": 63,
   "metadata": {
    "collapsed": true
   },
   "outputs": [],
   "source": [
    "A = np.array([[1, 1, 1],\n",
    "              [2, 2, 2],\n",
    "              [5, 5, 5]])\n",
    "\n",
    "B = np.array([[0, 1, 0],\n",
    "              [1, 1, 0],\n",
    "              [1, 1, 1]])"
   ]
  },
  {
   "cell_type": "markdown",
   "metadata": {},
   "source": [
    "Return a view of the matrix"
   ]
  },
  {
   "cell_type": "code",
   "execution_count": 64,
   "metadata": {},
   "outputs": [
    {
     "data": {
      "text/plain": [
       "array([[1, 1, 1],\n",
       "       [2, 2, 2],\n",
       "       [5, 5, 5]])"
      ]
     },
     "execution_count": 64,
     "metadata": {},
     "output_type": "execute_result"
    }
   ],
   "source": [
    "np.einsum('ij', A) "
   ]
  },
  {
   "cell_type": "code",
   "execution_count": 65,
   "metadata": {},
   "outputs": [
    {
     "data": {
      "text/plain": [
       "array([[1, 1, 1],\n",
       "       [2, 2, 2],\n",
       "       [5, 5, 5]])"
      ]
     },
     "execution_count": 65,
     "metadata": {},
     "output_type": "execute_result"
    }
   ],
   "source": [
    "A.view()"
   ]
  },
  {
   "cell_type": "markdown",
   "metadata": {},
   "source": [
    "Matrix Transpose (doesn't work if you want to switch around axes in 3D etc.)"
   ]
  },
  {
   "cell_type": "code",
   "execution_count": 66,
   "metadata": {},
   "outputs": [
    {
     "data": {
      "text/plain": [
       "array([[1, 2, 5],\n",
       "       [1, 2, 5],\n",
       "       [1, 2, 5]])"
      ]
     },
     "execution_count": 66,
     "metadata": {},
     "output_type": "execute_result"
    }
   ],
   "source": [
    "np.einsum('ji', A)"
   ]
  },
  {
   "cell_type": "code",
   "execution_count": 67,
   "metadata": {},
   "outputs": [
    {
     "data": {
      "text/plain": [
       "array([[1, 2, 5],\n",
       "       [1, 2, 5],\n",
       "       [1, 2, 5]])"
      ]
     },
     "execution_count": 67,
     "metadata": {},
     "output_type": "execute_result"
    }
   ],
   "source": [
    "A.T"
   ]
  },
  {
   "cell_type": "markdown",
   "metadata": {},
   "source": [
    "Matrix Diagonal"
   ]
  },
  {
   "cell_type": "code",
   "execution_count": 29,
   "metadata": {},
   "outputs": [
    {
     "name": "stdout",
     "output_type": "stream",
     "text": [
      "CPU times: user 17 µs, sys: 0 ns, total: 17 µs\n",
      "Wall time: 23.8 µs\n"
     ]
    },
    {
     "data": {
      "text/plain": [
       "array([1, 2, 5])"
      ]
     },
     "execution_count": 29,
     "metadata": {},
     "output_type": "execute_result"
    }
   ],
   "source": [
    "%time np.einsum('ii->i', A)"
   ]
  },
  {
   "cell_type": "code",
   "execution_count": 30,
   "metadata": {},
   "outputs": [
    {
     "name": "stdout",
     "output_type": "stream",
     "text": [
      "CPU times: user 30 µs, sys: 10 µs, total: 40 µs\n",
      "Wall time: 45.8 µs\n"
     ]
    },
    {
     "data": {
      "text/plain": [
       "array([1, 2, 5])"
      ]
     },
     "execution_count": 30,
     "metadata": {},
     "output_type": "execute_result"
    }
   ],
   "source": [
    "%time np.diag(A)"
   ]
  },
  {
   "cell_type": "markdown",
   "metadata": {},
   "source": [
    "Matrix Trace"
   ]
  },
  {
   "cell_type": "code",
   "execution_count": 31,
   "metadata": {},
   "outputs": [
    {
     "name": "stdout",
     "output_type": "stream",
     "text": [
      "CPU times: user 68 µs, sys: 36 µs, total: 104 µs\n",
      "Wall time: 164 µs\n"
     ]
    },
    {
     "data": {
      "text/plain": [
       "8"
      ]
     },
     "execution_count": 31,
     "metadata": {},
     "output_type": "execute_result"
    }
   ],
   "source": [
    "%time np.einsum('ii', A)"
   ]
  },
  {
   "cell_type": "markdown",
   "metadata": {},
   "source": [
    "Sum along an axis <br> You try!"
   ]
  },
  {
   "cell_type": "code",
   "execution_count": 32,
   "metadata": {},
   "outputs": [
    {
     "ename": "ValueError",
     "evalue": "operand has more dimensions than subscripts given in einstein sum, but no '...' ellipsis provided to broadcast the extra dimensions.",
     "output_type": "error",
     "traceback": [
      "\u001b[0;31m---------------------------------------------------------------------------\u001b[0m",
      "\u001b[0;31mValueError\u001b[0m                                Traceback (most recent call last)",
      "\u001b[0;32m<timed eval>\u001b[0m in \u001b[0;36m<module>\u001b[0;34m()\u001b[0m\n",
      "\u001b[0;32m~/Zero-Dev/zeus-env/lib/python3.6/site-packages/numpy/core/einsumfunc.py\u001b[0m in \u001b[0;36meinsum\u001b[0;34m(*operands, **kwargs)\u001b[0m\n\u001b[1;32m   1226\u001b[0m     \u001b[0;31m# If no optimization, run pure einsum\u001b[0m\u001b[0;34m\u001b[0m\u001b[0;34m\u001b[0m\u001b[0m\n\u001b[1;32m   1227\u001b[0m     \u001b[0;32mif\u001b[0m \u001b[0moptimize_arg\u001b[0m \u001b[0;32mis\u001b[0m \u001b[0;32mFalse\u001b[0m\u001b[0;34m:\u001b[0m\u001b[0;34m\u001b[0m\u001b[0m\n\u001b[0;32m-> 1228\u001b[0;31m         \u001b[0;32mreturn\u001b[0m \u001b[0mc_einsum\u001b[0m\u001b[0;34m(\u001b[0m\u001b[0;34m*\u001b[0m\u001b[0moperands\u001b[0m\u001b[0;34m,\u001b[0m \u001b[0;34m**\u001b[0m\u001b[0mkwargs\u001b[0m\u001b[0;34m)\u001b[0m\u001b[0;34m\u001b[0m\u001b[0m\n\u001b[0m\u001b[1;32m   1229\u001b[0m \u001b[0;34m\u001b[0m\u001b[0m\n\u001b[1;32m   1230\u001b[0m     \u001b[0mvalid_einsum_kwargs\u001b[0m \u001b[0;34m=\u001b[0m \u001b[0;34m[\u001b[0m\u001b[0;34m'out'\u001b[0m\u001b[0;34m,\u001b[0m \u001b[0;34m'dtype'\u001b[0m\u001b[0;34m,\u001b[0m \u001b[0;34m'order'\u001b[0m\u001b[0;34m,\u001b[0m \u001b[0;34m'casting'\u001b[0m\u001b[0;34m]\u001b[0m\u001b[0;34m\u001b[0m\u001b[0m\n",
      "\u001b[0;31mValueError\u001b[0m: operand has more dimensions than subscripts given in einstein sum, but no '...' ellipsis provided to broadcast the extra dimensions."
     ]
    }
   ],
   "source": [
    "%time np.einsum(' ', A) # np.sum(A, axis=1)"
   ]
  },
  {
   "cell_type": "markdown",
   "metadata": {
    "collapsed": true
   },
   "source": [
    "Matrix and element-wise multiplication."
   ]
  },
  {
   "cell_type": "code",
   "execution_count": 33,
   "metadata": {},
   "outputs": [
    {
     "data": {
      "text/plain": [
       "array([[0, 1, 0],\n",
       "       [2, 2, 0],\n",
       "       [5, 5, 5]])"
      ]
     },
     "execution_count": 33,
     "metadata": {},
     "output_type": "execute_result"
    }
   ],
   "source": [
    "A * B"
   ]
  },
  {
   "cell_type": "code",
   "execution_count": 34,
   "metadata": {},
   "outputs": [
    {
     "data": {
      "text/plain": [
       "array([[0, 1, 0],\n",
       "       [2, 2, 0],\n",
       "       [5, 5, 5]])"
      ]
     },
     "execution_count": 34,
     "metadata": {},
     "output_type": "execute_result"
    }
   ],
   "source": [
    "np.einsum('ij, ij -> ij', A, B)"
   ]
  },
  {
   "cell_type": "code",
   "execution_count": 35,
   "metadata": {},
   "outputs": [
    {
     "data": {
      "text/plain": [
       "array([[ 2,  3,  1],\n",
       "       [ 4,  6,  2],\n",
       "       [10, 15,  5]])"
      ]
     },
     "execution_count": 35,
     "metadata": {},
     "output_type": "execute_result"
    }
   ],
   "source": [
    "A @ B"
   ]
  },
  {
   "cell_type": "code",
   "execution_count": 36,
   "metadata": {},
   "outputs": [
    {
     "data": {
      "text/plain": [
       "array([[ 2,  3,  1],\n",
       "       [ 4,  6,  2],\n",
       "       [10, 15,  5]])"
      ]
     },
     "execution_count": 36,
     "metadata": {},
     "output_type": "execute_result"
    }
   ],
   "source": [
    "np.einsum('ij, jk-> ik', A, B)"
   ]
  },
  {
   "cell_type": "code",
   "execution_count": 37,
   "metadata": {},
   "outputs": [
    {
     "data": {
      "text/plain": [
       "array([[ 2,  3,  1],\n",
       "       [ 4,  6,  2],\n",
       "       [10, 15,  5]])"
      ]
     },
     "execution_count": 37,
     "metadata": {},
     "output_type": "execute_result"
    }
   ],
   "source": [
    "np.dot(A, B)"
   ]
  },
  {
   "cell_type": "markdown",
   "metadata": {},
   "source": [
    "Using Einsum and stride tricks to do a convultion operation!"
   ]
  },
  {
   "cell_type": "markdown",
   "metadata": {},
   "source": [
    "![alt text](arbitrary_padding_no_strides.gif \"Convolution\")"
   ]
  },
  {
   "cell_type": "markdown",
   "metadata": {},
   "source": [
    "![alt text](2005-06-26-essence-of-images-convolution-matrix.png \"Convolution\")"
   ]
  },
  {
   "cell_type": "code",
   "execution_count": 38,
   "metadata": {},
   "outputs": [
    {
     "name": "stdout",
     "output_type": "stream",
     "text": [
      "[[ 0  1  2  3  4]\n",
      " [ 5  6  7  8  9]\n",
      " [10 11 12 13 14]\n",
      " [15 16 17 18 19]\n",
      " [20 21 22 23 24]]\n"
     ]
    }
   ],
   "source": [
    "matrix = np.arange(25).reshape((5, 5))\n",
    "print(matrix)"
   ]
  },
  {
   "cell_type": "code",
   "execution_count": 39,
   "metadata": {},
   "outputs": [
    {
     "name": "stdout",
     "output_type": "stream",
     "text": [
      "[[1 1 0]\n",
      " [1 2 3]\n",
      " [0 1 1]]\n"
     ]
    }
   ],
   "source": [
    "conv_filter = np.array([[1, 1, 0], [1, 2, 3], [0, 1, 1]])\n",
    "print(conv_filter)"
   ]
  },
  {
   "cell_type": "code",
   "execution_count": 40,
   "metadata": {},
   "outputs": [
    {
     "name": "stdout",
     "output_type": "stream",
     "text": [
      "(3, 3, 3, 3)\n",
      "(40, 8, 40, 8)\n"
     ]
    }
   ],
   "source": [
    "filter_shape = conv_filter.shape\n",
    "conv_shape   = tuple(np.subtract(matrix.shape, filter_shape) + 1) + filter_shape\n",
    "conv_strides = matrix.strides * 2\n",
    "print(conv_shape)\n",
    "print(conv_strides)"
   ]
  },
  {
   "cell_type": "code",
   "execution_count": 41,
   "metadata": {
    "collapsed": true
   },
   "outputs": [],
   "source": [
    "sub_matrices = np.lib.stride_tricks.as_strided(matrix, conv_shape, conv_strides)"
   ]
  },
  {
   "cell_type": "code",
   "execution_count": 82,
   "metadata": {},
   "outputs": [
    {
     "name": "stdout",
     "output_type": "stream",
     "text": [
      "[[ 0  1  2  3  4]\n",
      " [ 5  6  7  8  9]\n",
      " [10 11 12 13 14]\n",
      " [15 16 17 18 19]\n",
      " [20 21 22 23 24]]\n",
      "[[[[ 0  1  2]\n",
      "   [ 5  6  7]\n",
      "   [10 11 12]]\n",
      "\n",
      "  [[ 1  2  3]\n",
      "   [ 6  7  8]\n",
      "   [11 12 13]]\n",
      "\n",
      "  [[ 2  3  4]\n",
      "   [ 7  8  9]\n",
      "   [12 13 14]]]\n",
      "\n",
      "\n",
      " [[[ 5  6  7]\n",
      "   [10 11 12]\n",
      "   [15 16 17]]\n",
      "\n",
      "  [[ 6  7  8]\n",
      "   [11 12 13]\n",
      "   [16 17 18]]\n",
      "\n",
      "  [[ 7  8  9]\n",
      "   [12 13 14]\n",
      "   [17 18 19]]]\n",
      "\n",
      "\n",
      " [[[10 11 12]\n",
      "   [15 16 17]\n",
      "   [20 21 22]]\n",
      "\n",
      "  [[11 12 13]\n",
      "   [16 17 18]\n",
      "   [21 22 23]]\n",
      "\n",
      "  [[12 13 14]\n",
      "   [17 18 19]\n",
      "   [22 23 24]]]]\n"
     ]
    }
   ],
   "source": [
    "print(matrix)\n",
    "print(sub_matrices)"
   ]
  },
  {
   "cell_type": "code",
   "execution_count": 46,
   "metadata": {
    "collapsed": true
   },
   "outputs": [],
   "source": [
    "convolved = np.einsum('ij, ijkl->kl', conv_filter, sub_matrices)"
   ]
  },
  {
   "cell_type": "code",
   "execution_count": 47,
   "metadata": {
    "scrolled": true
   },
   "outputs": [
    {
     "name": "stdout",
     "output_type": "stream",
     "text": [
      "[[ 62  72  82]\n",
      " [112 122 132]\n",
      " [162 172 182]]\n"
     ]
    }
   ],
   "source": [
    "print(convolved)"
   ]
  },
  {
   "cell_type": "markdown",
   "metadata": {},
   "source": [
    "Exercise!"
   ]
  },
  {
   "cell_type": "code",
   "execution_count": 48,
   "metadata": {
    "collapsed": true
   },
   "outputs": [],
   "source": [
    "a = np.arange(15)"
   ]
  },
  {
   "cell_type": "markdown",
   "metadata": {},
   "source": [
    "* Window this array such that each window has 3 elements in it with a jump of 2 windows\n",
    "* Find the row-wise mean of the last two elements in every alternate row.\n",
    "\n",
    "(Answer - [7, 8])"
   ]
  },
  {
   "cell_type": "code",
   "execution_count": null,
   "metadata": {
    "collapsed": true
   },
   "outputs": [],
   "source": []
  }
 ],
 "metadata": {
  "kernelspec": {
   "display_name": "Python 3",
   "language": "python",
   "name": "python3"
  },
  "language_info": {
   "codemirror_mode": {
    "name": "ipython",
    "version": 3
   },
   "file_extension": ".py",
   "mimetype": "text/x-python",
   "name": "python",
   "nbconvert_exporter": "python",
   "pygments_lexer": "ipython3",
   "version": "3.6.2"
  }
 },
 "nbformat": 4,
 "nbformat_minor": 2
}
